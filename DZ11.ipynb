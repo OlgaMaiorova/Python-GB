{
  "nbformat": 4,
  "nbformat_minor": 0,
  "metadata": {
    "colab": {
      "provenance": [],
      "collapsed_sections": [],
      "authorship_tag": "ABX9TyM1hlGfD+H6l7ZkT8tH5kAH",
      "include_colab_link": true
    },
    "kernelspec": {
      "name": "python3",
      "display_name": "Python 3"
    },
    "language_info": {
      "name": "python"
    }
  },
  "cells": [
    {
      "cell_type": "markdown",
      "metadata": {
        "id": "view-in-github",
        "colab_type": "text"
      },
      "source": [
        "<a href=\"https://colab.research.google.com/github/OlgaMaiorova/Python-GB/blob/main/DZ11.ipynb\" target=\"_parent\"><img src=\"https://colab.research.google.com/assets/colab-badge.svg\" alt=\"Open In Colab\"/></a>"
      ]
    },
    {
      "cell_type": "markdown",
      "source": [
        "Строим график"
      ],
      "metadata": {
        "id": "goNzpidYiv7e"
      }
    },
    {
      "cell_type": "code",
      "source": [
        "import sympy\n",
        "import numpy as np\n",
        "from sympy.plotting import plot\n",
        "from sympy import symbols"
      ],
      "metadata": {
        "id": "wrzIFjPWelGs"
      },
      "execution_count": 9,
      "outputs": []
    },
    {
      "cell_type": "code",
      "source": [
        "from sympy import *\n",
        "from sympy.plotting import plot\n",
        "init_printing()\n",
        "x = Symbol('x')\n",
        "f =  -12*x**4*sin(cos(x)) - 18*x**3+5*x**2 + 10*x - 30\n",
        "plot(f)\n",
        "print(f)"
      ],
      "metadata": {
        "colab": {
          "base_uri": "https://localhost:8080/",
          "height": 314
        },
        "id": "PPTrBK5Fem11",
        "outputId": "dae27fa9-025a-4703-af59-72a1a1e38d0d"
      },
      "execution_count": 1,
      "outputs": [
        {
          "output_type": "display_data",
          "data": {
            "text/plain": [
              "<Figure size 432x288 with 1 Axes>"
            ],
            "image/png": "[encoded data removed]"
          },
          "metadata": {
            "needs_background": "light"
          }
        },
        {
          "output_type": "stream",
          "name": "stdout",
          "text": [
            "-12*x**4*sin(cos(x)) - 18*x**3 + 5*x**2 + 10*x - 30\n"
          ]
        }
      ]
    },
    {
      "cell_type": "code",
      "source": [
        "sympy.solveset(sympy.Eq(-12*x**4*sympy.sin(sympy.cos(x)) - 18*x**3 + 5*x**2 + 10*x - 30, 0), x)"
      ],
      "metadata": {
        "colab": {
          "base_uri": "https://localhost:8080/",
          "height": 38
        },
        "id": "9_-cRM96erfs",
        "outputId": "db07b664-fe65-448f-8f77-53f731506816"
      },
      "execution_count": 12,
      "outputs": [
        {
          "output_type": "execute_result",
          "data": {
            "text/plain": [
              "ConditionSet(x, Eq(-12*x**4*sin(cos(x)) - 18*x**3 + 5*x**2 + 10*x - 30, 0), Complexes)"
            ],
            "text/latex": "$\\displaystyle \\left\\{x \\mid x \\in \\mathbb{C} \\wedge - 12 x^{4} \\sin{\\left(\\cos{\\left(x \\right)} \\right)} - 18 x^{3} + 5 x^{2} + 10 x - 30 = 0 \\right\\}$"
          },
          "metadata": {},
          "execution_count": 12
        }
      ]
    },
    {
      "cell_type": "markdown",
      "source": [
        "Корни"
      ],
      "metadata": {
        "id": "9sx8PkpVQydT"
      }
    },
    {
      "cell_type": "markdown",
      "source": [
        "Корни уравнения при х(-10, 10) точки пересечения с осью X"
      ],
      "metadata": {
        "id": "H6Bo7t3TQ0kI"
      }
    },
    {
      "cell_type": "markdown",
      "source": [
        "Вершины"
      ],
      "metadata": {
        "id": "FTkCYEfPPj_y"
      }
    },
    {
      "cell_type": "code",
      "source": [
        "points = list(zip(xs, ys))\n",
        "extrem = []\n",
        "flag_incr = True\n",
        "prior = points[0]\n",
        "for current in points[1:]:\n",
        "    if (flag_incr and prior[1] > current[1]) or (not flag_incr and prior[1] < current[1]):\n",
        "        prior = current\n",
        "        continue\n",
        "    else:\n",
        "        extrem.append(prior)\n",
        "        prior = current\n",
        "        flag_incr = not flag_incr\n",
        "\n",
        "print(\"Вершины:\")\n",
        "print(*extrem)"
      ],
      "metadata": {
        "colab": {
          "base_uri": "https://localhost:8080/"
        },
        "id": "BSTMT5MiPnXh",
        "outputId": "072203b2-db75-43a8-e2d2-6099e008c0cd"
      },
      "execution_count": 7,
      "outputs": [
        {
          "output_type": "stream",
          "name": "stdout",
          "text": [
            "Вершины:\n",
            "(-10.0, 107652.769512485) (-9.98, 107677.979885801) (-6.83, -13820.5103804871) (-4.17, 3111.34748026531) (-0.39, -32.2934502471160) (0.45, -26.5133423096216) (1.7, -74.1062343439542) (3.82, 872.254954283837) (7.0, -25610.4912765752) (9.88, 72634.2724507631)\n"
          ]
        }
      ]
    },
    {
      "cell_type": "markdown",
      "source": [
        "нахождение интервалов, где f > 0 и f < 0"
      ],
      "metadata": {
        "id": "HnMv_Mjwj23r"
      }
    },
    {
      "cell_type": "code",
      "source": [
        "points = list(zip(xs, ys))\n",
        "above, below = [], []\n",
        "flag_increase = False\n",
        "while len(points) >= 2:\n",
        "    counter = 0\n",
        "    if flag_increase:\n",
        "        while points[counter][0] < end and points[counter][1] > 0:\n",
        "            counter += 1\n",
        "        if counter != 0:\n",
        "            above.append([points[0][0], points[counter - 2][0]])\n",
        "        flag_increase = False\n",
        "    else:\n",
        "        while points[counter][0] < end and points[counter][1] < 0:\n",
        "            counter += 1\n",
        "        if counter != 0:\n",
        "            below.append([points[0][0], points[counter - 2][0]])\n",
        "        flag_increase = True\n",
        "    del points[:counter]\n",
        "\n",
        "print(\"Интервалы, на которых f > 0:\")\n",
        "print(*above)\n",
        "print(\"Интервалы, на которых f < 0:\")\n",
        "print(*below)"
      ],
      "metadata": {
        "colab": {
          "base_uri": "https://localhost:8080/"
        },
        "id": "AaroIraVe6Px",
        "outputId": "f481e06d-b7e0-4890-8332-99a37c421b0f"
      },
      "execution_count": 5,
      "outputs": [
        {
          "output_type": "stream",
          "name": "stdout",
          "text": [
            "Интервалы, на которых f > 0:\n",
            "[-10.0, -7.67] [-5.02, -1.35] [2.28, 4.37] [8.04, 9.98]\n",
            "Интервалы, на которых f < 0:\n",
            "[-7.65, -5.04] [-1.33, 2.26] [4.39, 8.02]\n"
          ]
        }
      ]
    },
    {
      "cell_type": "markdown",
      "source": [],
      "metadata": {
        "id": "LdGMxH47ij2D"
      }
    }
  ]
}